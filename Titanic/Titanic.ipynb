{
  "nbformat": 4,
  "nbformat_minor": 0,
  "metadata": {
    "colab": {
      "provenance": [],
      "authorship_tag": "ABX9TyOh8etjEl5HjgpwTwDlO0l6",
      "include_colab_link": true
    },
    "kernelspec": {
      "name": "python3",
      "display_name": "Python 3"
    },
    "language_info": {
      "name": "python"
    }
  },
  "cells": [
    {
      "cell_type": "markdown",
      "metadata": {
        "id": "view-in-github",
        "colab_type": "text"
      },
      "source": [
        "<a href=\"https://colab.research.google.com/github/mmtondreau/Kaggle/blob/main/Titanic/Titanic.ipynb\" target=\"_parent\"><img src=\"https://colab.research.google.com/assets/colab-badge.svg\" alt=\"Open In Colab\"/></a>"
      ]
    },
    {
      "cell_type": "code",
      "source": [
        "!pip install catboost"
      ],
      "metadata": {
        "colab": {
          "base_uri": "https://localhost:8080/"
        },
        "id": "AAHgtlnIB81K",
        "outputId": "a3dbb737-cfc1-4fa0-8750-c3a11dc407ca"
      },
      "execution_count": 25,
      "outputs": [
        {
          "output_type": "stream",
          "name": "stdout",
          "text": [
            "Collecting catboost\n",
            "  Downloading catboost-1.2.8-cp311-cp311-manylinux2014_x86_64.whl.metadata (1.2 kB)\n",
            "Requirement already satisfied: graphviz in /usr/local/lib/python3.11/dist-packages (from catboost) (0.21)\n",
            "Requirement already satisfied: matplotlib in /usr/local/lib/python3.11/dist-packages (from catboost) (3.10.0)\n",
            "Requirement already satisfied: numpy<3.0,>=1.16.0 in /usr/local/lib/python3.11/dist-packages (from catboost) (2.0.2)\n",
            "Requirement already satisfied: pandas>=0.24 in /usr/local/lib/python3.11/dist-packages (from catboost) (2.2.2)\n",
            "Requirement already satisfied: scipy in /usr/local/lib/python3.11/dist-packages (from catboost) (1.15.3)\n",
            "Requirement already satisfied: plotly in /usr/local/lib/python3.11/dist-packages (from catboost) (5.24.1)\n",
            "Requirement already satisfied: six in /usr/local/lib/python3.11/dist-packages (from catboost) (1.17.0)\n",
            "Requirement already satisfied: python-dateutil>=2.8.2 in /usr/local/lib/python3.11/dist-packages (from pandas>=0.24->catboost) (2.9.0.post0)\n",
            "Requirement already satisfied: pytz>=2020.1 in /usr/local/lib/python3.11/dist-packages (from pandas>=0.24->catboost) (2025.2)\n",
            "Requirement already satisfied: tzdata>=2022.7 in /usr/local/lib/python3.11/dist-packages (from pandas>=0.24->catboost) (2025.2)\n",
            "Requirement already satisfied: contourpy>=1.0.1 in /usr/local/lib/python3.11/dist-packages (from matplotlib->catboost) (1.3.2)\n",
            "Requirement already satisfied: cycler>=0.10 in /usr/local/lib/python3.11/dist-packages (from matplotlib->catboost) (0.12.1)\n",
            "Requirement already satisfied: fonttools>=4.22.0 in /usr/local/lib/python3.11/dist-packages (from matplotlib->catboost) (4.58.4)\n",
            "Requirement already satisfied: kiwisolver>=1.3.1 in /usr/local/lib/python3.11/dist-packages (from matplotlib->catboost) (1.4.8)\n",
            "Requirement already satisfied: packaging>=20.0 in /usr/local/lib/python3.11/dist-packages (from matplotlib->catboost) (24.2)\n",
            "Requirement already satisfied: pillow>=8 in /usr/local/lib/python3.11/dist-packages (from matplotlib->catboost) (11.2.1)\n",
            "Requirement already satisfied: pyparsing>=2.3.1 in /usr/local/lib/python3.11/dist-packages (from matplotlib->catboost) (3.2.3)\n",
            "Requirement already satisfied: tenacity>=6.2.0 in /usr/local/lib/python3.11/dist-packages (from plotly->catboost) (8.5.0)\n",
            "Downloading catboost-1.2.8-cp311-cp311-manylinux2014_x86_64.whl (99.2 MB)\n",
            "\u001b[2K   \u001b[90m━━━━━━━━━━━━━━━━━━━━━━━━━━━━━━━━━━━━━━━━\u001b[0m \u001b[32m99.2/99.2 MB\u001b[0m \u001b[31m7.8 MB/s\u001b[0m eta \u001b[36m0:00:00\u001b[0m\n",
            "\u001b[?25hInstalling collected packages: catboost\n",
            "Successfully installed catboost-1.2.8\n"
          ]
        }
      ]
    },
    {
      "cell_type": "code",
      "execution_count": 26,
      "metadata": {
        "id": "KATFbMJQxtvR"
      },
      "outputs": [],
      "source": [
        "import os\n",
        "import json\n",
        "import zipfile\n",
        "from google.colab import drive\n",
        "import shutil\n",
        "import pandas as pd\n",
        "import numpy as np\n",
        "import matplotlib.pyplot as plt\n",
        "\n",
        "import lightgbm as lgb\n",
        "from lightgbm import log_evaluation, early_stopping\n",
        "from catboost import CatBoostRegressor, Pool\n",
        "from sklearn.linear_model import ElasticNetCV\n",
        "from sklearn.metrics import mean_squared_error\n",
        "from sklearn.model_selection import KFold, train_test_split\n",
        "from sklearn.pipeline import make_pipeline\n",
        "from sklearn.preprocessing import StandardScaler\n",
        "from sklearn.ensemble import StackingRegressor"
      ]
    },
    {
      "cell_type": "markdown",
      "source": [
        "# Mount our Kaggle API Key\n",
        "\n",
        "Go to https://www.kaggle.com/account\n",
        "\n",
        "Under API, click Create New API Token\n",
        "\n",
        "This will download a file called kaggle.json\n",
        "Place the key in your google drive at secrets/kaggle.jso"
      ],
      "metadata": {
        "id": "jf8bvXVn5l1R"
      }
    },
    {
      "cell_type": "code",
      "source": [
        "# drive.mount('/content/drive')\n",
        "os.makedirs(\"/root/config/.kaggle\", exist_ok=True)\n",
        "shutil.copy(\"/content/drive/MyDrive/secrets/kaggle.json\", \"/root/.config/kaggle/kaggle.json\")\n",
        "os.chmod(\"/root/.kaggle/kaggle.json\", 0o600)"
      ],
      "metadata": {
        "id": "gMxT3uYLzzTl"
      },
      "execution_count": 5,
      "outputs": []
    },
    {
      "cell_type": "markdown",
      "source": [
        "# Download Training and Test Data\n"
      ],
      "metadata": {
        "id": "bzpaqFs45iVE"
      }
    },
    {
      "cell_type": "code",
      "source": [
        "from kaggle.api.kaggle_api_extended import KaggleApi\n",
        "\n",
        "api = KaggleApi()\n",
        "api.authenticate()\n",
        "display(api.competition_list_files('titanic').files)\n",
        "api.competition_download_files('titanic', path='data')\n",
        "\n",
        "zip_path = 'data/titanic.zip'\n",
        "with zipfile.ZipFile(zip_path, 'r') as zip_ref:\n",
        "    zip_ref.extractall('data')\n",
        "\n",
        "# Optional: remove zip file afterward\n",
        "os.remove(zip_path)"
      ],
      "metadata": {
        "colab": {
          "base_uri": "https://localhost:8080/",
          "height": 121
        },
        "id": "ihZLpQtj0NN_",
        "outputId": "f585cc1a-a1ea-4fd6-a536-a1823ad21d2d"
      },
      "execution_count": 15,
      "outputs": [
        {
          "output_type": "display_data",
          "data": {
            "text/plain": [
              "[{\"ref\": \"\", \"name\": \"gender_submission.csv\", \"description\": \"\", \"totalBytes\": 3258, \"url\": \"\", \"creationDate\": \"2018-04-09T05:33:22.396Z\"},\n",
              " {\"ref\": \"\", \"name\": \"test.csv\", \"description\": \"\", \"totalBytes\": 28629, \"url\": \"\", \"creationDate\": \"2018-04-09T05:33:22.396Z\"},\n",
              " {\"ref\": \"\", \"name\": \"train.csv\", \"description\": \"\", \"totalBytes\": 61194, \"url\": \"\", \"creationDate\": \"2018-04-09T05:33:22.396Z\"}]"
            ]
          },
          "metadata": {}
        }
      ]
    },
    {
      "cell_type": "code",
      "source": [
        "train_raw_df =  pd.read_csv(\"data/train.csv\", index_col=\"PassengerId\")\n",
        "test_raw_df =  pd.read_csv(\"data/train.csv\", index_col=\"PassengerId\")\n",
        "\n",
        "y_full = train_raw_df.pop(\"Survived\").astype(float)"
      ],
      "metadata": {
        "id": "xsGEbmF1017V"
      },
      "execution_count": 30,
      "outputs": []
    },
    {
      "cell_type": "code",
      "source": [
        "cat_cols = train_raw_df.select_dtypes(include=[\"object\", \"string\", \"category\"]).columns.tolist()\n",
        "\n",
        "for df in (train_raw_df, test_raw_df):\n",
        "    for col in cat_cols:\n",
        "        df[col] = (\n",
        "            df[col]\n",
        "            .astype(\"string\")\n",
        "            .fillna(\"Missing\")\n",
        "            .replace({\"nan\": \"Missing\", \"None\": \"Missing\", \"\": \"Missing\"})\n",
        "            .astype(\"category\")\n",
        "        )\n",
        "\n",
        "cat_features = cat_cols.copy()  # column names for CatBoost"
      ],
      "metadata": {
        "id": "IoYnhSvXAPlf"
      },
      "execution_count": 20,
      "outputs": []
    },
    {
      "cell_type": "code",
      "source": [
        "def normalize_numeric(df: pd.DataFrame) -> pd.DataFrame:\n",
        "    num_cols = df.select_dtypes(\"number\").columns\n",
        "    df[num_cols] = (df[num_cols] - df[num_cols].mean()) / df[num_cols].std().replace(0, 1)\n",
        "    return df\n",
        "\n",
        "\n",
        "def one_hot(df: pd.DataFrame, cols):\n",
        "    return pd.get_dummies(df, columns=cols, dummy_na=True, drop_first=True)\n",
        "\n",
        "\n",
        "def to_lgb_matrix(df: pd.DataFrame) -> pd.DataFrame:\n",
        "    out = one_hot(df.copy(), cat_cols)\n",
        "    out = normalize_numeric(out)\n",
        "    num_cols = out.select_dtypes(\"number\").columns\n",
        "    out[num_cols] = out[num_cols].fillna(0.0)\n",
        "    return out.astype(np.float32)\n"
      ],
      "metadata": {
        "id": "jdJthhspBX9T"
      },
      "execution_count": 21,
      "outputs": []
    },
    {
      "cell_type": "code",
      "source": [
        "X_lgb_train   = to_lgb_matrix(train_raw_df)\n",
        "X_lgb_test_raw = to_lgb_matrix(test_raw_df)\n",
        "# Align test to train column set (one‑hot can create extras)\n",
        "X_lgb_test = X_lgb_test_raw.reindex(columns=X_lgb_train.columns, fill_value=0.0).astype(np.float32)\n",
        "\n",
        "X_cb_train    = normalize_numeric(train_raw_df.copy())\n",
        "X_cb_test     = normalize_numeric(test_raw_df.copy())"
      ],
      "metadata": {
        "id": "qxTbAyM5Ba5V"
      },
      "execution_count": 22,
      "outputs": []
    },
    {
      "cell_type": "code",
      "source": [
        "train_idx, val_idx = train_test_split(np.arange(len(X_lgb_train)), test_size=0.15, random_state=42)\n",
        "\n",
        "Xtr_lgb, Xval_lgb = X_lgb_train.iloc[train_idx].to_numpy(), X_lgb_train.iloc[val_idx].to_numpy()\n",
        "Xtr_cb , Xval_cb  = X_cb_train.iloc[train_idx],              X_cb_train.iloc[val_idx]\n",
        "\n",
        "ytr, yval = y_full.iloc[train_idx], y_full.iloc[val_idx]"
      ],
      "metadata": {
        "id": "KkHxr4ZGCJPN"
      },
      "execution_count": 31,
      "outputs": []
    },
    {
      "cell_type": "code",
      "source": [
        "train_pool = Pool(Xtr_cb, ytr, cat_features=cat_features)\n",
        "val_pool   = Pool(Xval_cb, yval, cat_features=cat_features)\n",
        "model_cb = CatBoostRegressor(iterations=5000, learning_rate=0.03, depth=8, loss_function=\"RMSE\",\n",
        "                             eval_metric=\"RMSE\", random_seed=42, l2_leaf_reg=3, bagging_temperature=1.0,\n",
        "                             od_type=\"Iter\", od_wait=200, verbose=300)\n",
        "model_cb.fit(train_pool, eval_set=val_pool, use_best_model=True)\n",
        "print(\"CatBoost best RMSE:\", model_cb.best_score_['validation']['RMSE'])"
      ],
      "metadata": {
        "colab": {
          "base_uri": "https://localhost:8080/"
        },
        "id": "ivOy_cMNBgmC",
        "outputId": "23d79cde-e075-4340-b5c7-f25eed309ca7"
      },
      "execution_count": 32,
      "outputs": [
        {
          "output_type": "stream",
          "name": "stdout",
          "text": [
            "0:\tlearn: 0.4704226\ttest: 0.4801314\tbest: 0.4801314 (0)\ttotal: 47.1ms\tremaining: 3m 55s\n",
            "300:\tlearn: 0.0039385\ttest: 0.0032691\tbest: 0.0032677 (299)\ttotal: 1.4s\tremaining: 21.8s\n",
            "600:\tlearn: 0.0018219\ttest: 0.0022254\tbest: 0.0022254 (600)\ttotal: 3.41s\tremaining: 24.9s\n",
            "900:\tlearn: 0.0011087\ttest: 0.0019950\tbest: 0.0019950 (900)\ttotal: 5.61s\tremaining: 25.5s\n",
            "1200:\tlearn: 0.0008269\ttest: 0.0019065\tbest: 0.0019065 (1200)\ttotal: 7.79s\tremaining: 24.6s\n",
            "1500:\tlearn: 0.0006390\ttest: 0.0018834\tbest: 0.0018818 (1476)\ttotal: 10.1s\tremaining: 23.5s\n",
            "1800:\tlearn: 0.0004975\ttest: 0.0018731\tbest: 0.0018721 (1716)\ttotal: 14.7s\tremaining: 26.1s\n",
            "Stopped by overfitting detector  (200 iterations wait)\n",
            "\n",
            "bestTest = 0.001872063013\n",
            "bestIteration = 1716\n",
            "\n",
            "Shrink model to first 1717 iterations.\n",
            "CatBoost best RMSE: 0.001872063013085006\n"
          ]
        }
      ]
    },
    {
      "cell_type": "code",
      "source": [],
      "metadata": {
        "id": "IUn8VjWxB6ma"
      },
      "execution_count": null,
      "outputs": []
    }
  ]
}